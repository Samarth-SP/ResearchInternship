{
 "cells": [
  {
   "cell_type": "code",
   "execution_count": 1,
   "id": "492396f6",
   "metadata": {},
   "outputs": [],
   "source": [
    "import pandas as pd\n",
    "import numpy as np\n",
    "from sentence_transformers import SentenceTransformer, util"
   ]
  },
  {
   "cell_type": "code",
   "execution_count": 2,
   "id": "045e2ad7",
   "metadata": {},
   "outputs": [
    {
     "data": {
      "text/html": [
       "<div>\n",
       "<style scoped>\n",
       "    .dataframe tbody tr th:only-of-type {\n",
       "        vertical-align: middle;\n",
       "    }\n",
       "\n",
       "    .dataframe tbody tr th {\n",
       "        vertical-align: top;\n",
       "    }\n",
       "\n",
       "    .dataframe thead th {\n",
       "        text-align: right;\n",
       "    }\n",
       "</style>\n",
       "<table border=\"1\" class=\"dataframe\">\n",
       "  <thead>\n",
       "    <tr style=\"text-align: right;\">\n",
       "      <th></th>\n",
       "      <th>title</th>\n",
       "      <th>doi</th>\n",
       "      <th>categories</th>\n",
       "      <th>abstract</th>\n",
       "    </tr>\n",
       "  </thead>\n",
       "  <tbody>\n",
       "    <tr>\n",
       "      <th>8</th>\n",
       "      <td>The Spitzer c2d Survey of Large, Nearby, Inste...</td>\n",
       "      <td>10.1086/518646</td>\n",
       "      <td>astro-ph</td>\n",
       "      <td>We discuss the results from the combined IRA...</td>\n",
       "    </tr>\n",
       "    <tr>\n",
       "      <th>16</th>\n",
       "      <td>Spectroscopic Observations of the Intermediate...</td>\n",
       "      <td>10.1111/j.1365-2966.2007.11762.x</td>\n",
       "      <td>astro-ph</td>\n",
       "      <td>Results from spectroscopic observations of t...</td>\n",
       "    </tr>\n",
       "    <tr>\n",
       "      <th>22</th>\n",
       "      <td>ALMA as the ideal probe of the solar chromosphere</td>\n",
       "      <td>10.1007/s10509-007-9626-1</td>\n",
       "      <td>astro-ph</td>\n",
       "      <td>The very nature of the solar chromosphere, i...</td>\n",
       "    </tr>\n",
       "    <tr>\n",
       "      <th>58</th>\n",
       "      <td>The Mass and Radius of the Unseen M-Dwarf Comp...</td>\n",
       "      <td>10.1086/518413</td>\n",
       "      <td>astro-ph</td>\n",
       "      <td>We derive masses and radii for both componen...</td>\n",
       "    </tr>\n",
       "    <tr>\n",
       "      <th>79</th>\n",
       "      <td>Shaping the Globular Cluster Mass Function by ...</td>\n",
       "      <td>10.1086/533485</td>\n",
       "      <td>astro-ph</td>\n",
       "      <td>We show that the globular cluster mass funct...</td>\n",
       "    </tr>\n",
       "  </tbody>\n",
       "</table>\n",
       "</div>"
      ],
      "text/plain": [
       "                                                title  \\\n",
       "8   The Spitzer c2d Survey of Large, Nearby, Inste...   \n",
       "16  Spectroscopic Observations of the Intermediate...   \n",
       "22  ALMA as the ideal probe of the solar chromosphere   \n",
       "58  The Mass and Radius of the Unseen M-Dwarf Comp...   \n",
       "79  Shaping the Globular Cluster Mass Function by ...   \n",
       "\n",
       "                                 doi categories  \\\n",
       "8                     10.1086/518646   astro-ph   \n",
       "16  10.1111/j.1365-2966.2007.11762.x   astro-ph   \n",
       "22         10.1007/s10509-007-9626-1   astro-ph   \n",
       "58                    10.1086/518413   astro-ph   \n",
       "79                    10.1086/533485   astro-ph   \n",
       "\n",
       "                                             abstract  \n",
       "8     We discuss the results from the combined IRA...  \n",
       "16    Results from spectroscopic observations of t...  \n",
       "22    The very nature of the solar chromosphere, i...  \n",
       "58    We derive masses and radii for both componen...  \n",
       "79    We show that the globular cluster mass funct...  "
      ]
     },
     "execution_count": 2,
     "metadata": {},
     "output_type": "execute_result"
    }
   ],
   "source": [
    "data = pd.read_json('ArXiv.json')\n",
    "data.head()"
   ]
  },
  {
   "cell_type": "code",
   "execution_count": 3,
   "id": "0573c44d",
   "metadata": {},
   "outputs": [
    {
     "name": "stdout",
     "output_type": "stream",
     "text": [
      "hello\n"
     ]
    }
   ],
   "source": [
    "embedder = SentenceTransformer('multi-qa-MiniLM-L6-cos-v1')\n",
    "doccorpus = data['abstract'].tolist()\n",
    "corpus_embeddings = embedder.encode(doccorpus)\n",
    "print('hello')"
   ]
  },
  {
   "cell_type": "code",
   "execution_count": 5,
   "id": "5b4e0155",
   "metadata": {},
   "outputs": [],
   "source": [
    "import pickle\n",
    "with open('corpus_embeddings.pickle', 'wb') as pkl:\n",
    "    pickle.dump(corpus_embeddings, pkl)\n",
    "with open(\"ArXiv-Abstract-Embeddings.pkl\", \"wb\") as fOut:\n",
    "    pickle.dump({'titles': doccorpus, 'embeddings': corpus_embeddings}, fOut)"
   ]
  },
  {
   "cell_type": "code",
   "execution_count": 6,
   "id": "560f2455",
   "metadata": {},
   "outputs": [
    {
     "data": {
      "text/plain": [
       "(65527, 384)"
      ]
     },
     "execution_count": 6,
     "metadata": {},
     "output_type": "execute_result"
    }
   ],
   "source": [
    "corpus_embeddings.shape"
   ]
  },
  {
   "cell_type": "code",
   "execution_count": 8,
   "id": "68985b1d",
   "metadata": {},
   "outputs": [
    {
     "data": {
      "text/plain": [
       "numpy.ndarray"
      ]
     },
     "execution_count": 8,
     "metadata": {},
     "output_type": "execute_result"
    }
   ],
   "source": [
    "type(corpus_embeddings)"
   ]
  },
  {
   "cell_type": "code",
   "execution_count": null,
   "id": "ef82acd0",
   "metadata": {},
   "outputs": [],
   "source": []
  }
 ],
 "metadata": {
  "kernelspec": {
   "display_name": "Python 3 (ipykernel)",
   "language": "python",
   "name": "python3"
  },
  "language_info": {
   "codemirror_mode": {
    "name": "ipython",
    "version": 3
   },
   "file_extension": ".py",
   "mimetype": "text/x-python",
   "name": "python",
   "nbconvert_exporter": "python",
   "pygments_lexer": "ipython3",
   "version": "3.9.12"
  }
 },
 "nbformat": 4,
 "nbformat_minor": 5
}
